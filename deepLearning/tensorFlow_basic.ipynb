{
 "cells": [
  {
   "cell_type": "markdown",
   "metadata": {},
   "source": [
    "## Tensorflow中的Tensor(张量) "
   ]
  },
  {
   "cell_type": "markdown",
   "metadata": {},
   "source": [
    "- Tensor(张量)是什么？\n",
    "- 如何创建一个张量?"
   ]
  },
  {
   "cell_type": "code",
   "execution_count": 1,
   "metadata": {},
   "outputs": [
    {
     "name": "stdout",
     "output_type": "stream",
     "text": [
      "WARNING:tensorflow:From /usr/local/lib/python3.5/dist-packages/tensorflow/contrib/learn/python/learn/datasets/base.py:198: retry (from tensorflow.contrib.learn.python.learn.datasets.base) is deprecated and will be removed in a future version.\n",
      "Instructions for updating:\n",
      "Use the retry module or similar alternatives.\n",
      "TensorFlow version: 1.7.0\n",
      "Eager execution: True\n"
     ]
    }
   ],
   "source": [
    "from __future__ import absolute_import, division, print_function\n",
    "\n",
    "import os\n",
    "import matplotlib.pyplot as plt\n",
    "\n",
    "import tensorflow as tf\n",
    "import tensorflow.contrib.eager as tfe\n",
    "\n",
    "tf.enable_eager_execution()\n",
    "\n",
    "print(\"TensorFlow version: {}\".format(tf.VERSION))\n",
    "print(\"Eager execution: {}\".format(tf.executing_eagerly()))"
   ]
  },
  {
   "cell_type": "code",
   "execution_count": 5,
   "metadata": {},
   "outputs": [],
   "source": [
    "import numpy as np"
   ]
  },
  {
   "cell_type": "code",
   "execution_count": 7,
   "metadata": {},
   "outputs": [
    {
     "data": {
      "text/plain": [
       "array([0.42750784, 0.12737875, 0.12403142, 0.9272447 , 0.06083417,\n",
       "       0.97957856, 0.37456692, 0.32491972, 0.80616231, 0.7859136 ,\n",
       "       0.82532396, 0.31758513, 0.7535844 , 0.03569718, 0.67905055,\n",
       "       0.00879383, 0.2584823 , 0.03676284, 0.4277522 , 0.11048361,\n",
       "       0.04463067, 0.75058946, 0.86749996, 0.12500223, 0.06043792,\n",
       "       0.79731076, 0.63741519, 0.34033485, 0.373708  , 0.67627792,\n",
       "       0.51420724, 0.84733651, 0.11215126, 0.17688376, 0.01073035,\n",
       "       0.98099546, 0.75644898, 0.88073454, 0.99951809, 0.59672145,\n",
       "       0.2615493 , 0.79067718, 0.28167631, 0.12682189, 0.65183823,\n",
       "       0.83982801, 0.80615639, 0.80215759, 0.51596751, 0.85080434,\n",
       "       0.07622756, 0.3104621 , 0.57234981, 0.99928742, 0.97756632,\n",
       "       0.98032181, 0.27768405, 0.74902299, 0.35996669, 0.38111708,\n",
       "       0.72048067, 0.4876021 , 0.47564047, 0.15006481, 0.78428459,\n",
       "       0.68147069, 0.49092622, 0.30549165, 0.19749548, 0.706765  ,\n",
       "       0.73413659, 0.40463088, 0.69630036, 0.96980843, 0.50349327,\n",
       "       0.89160362, 0.97142135, 0.77311916, 0.90758792, 0.47175679,\n",
       "       0.14006433, 0.17973052, 0.02735818, 0.28494596, 0.27748765,\n",
       "       0.59230218, 0.46392947, 0.20516831, 0.19173702, 0.99072691,\n",
       "       0.1673253 , 0.73940565, 0.03979833, 0.98983685, 0.05827765,\n",
       "       0.28862424, 0.14651167, 0.10438147, 0.23778071, 0.41710422])"
      ]
     },
     "execution_count": 7,
     "metadata": {},
     "output_type": "execute_result"
    }
   ],
   "source": [
    "np.random.rand(100)"
   ]
  },
  {
   "cell_type": "code",
   "execution_count": null,
   "metadata": {},
   "outputs": [],
   "source": []
  }
 ],
 "metadata": {
  "kernelspec": {
   "display_name": "Python 3",
   "language": "python",
   "name": "python3"
  },
  "language_info": {
   "codemirror_mode": {
    "name": "ipython",
    "version": 3
   },
   "file_extension": ".py",
   "mimetype": "text/x-python",
   "name": "python",
   "nbconvert_exporter": "python",
   "pygments_lexer": "ipython3",
   "version": "3.5.2"
  }
 },
 "nbformat": 4,
 "nbformat_minor": 2
}
