{
 "cells": [
  {
   "cell_type": "code",
   "execution_count": null,
   "metadata": {},
   "outputs": [],
   "source": [
    "import matplotlib.pyplot as plt\n",
    "import pandas as pd\n",
    "import tensorflow as tf"
   ]
  },
  {
   "cell_type": "code",
   "execution_count": null,
   "metadata": {},
   "outputs": [],
   "source": [
    "n_epochs = 50000\n",
    "trainSize = 450\n",
    "learning_rate = 0.0000001"
   ]
  },
  {
   "cell_type": "code",
   "execution_count": null,
   "metadata": {},
   "outputs": [],
   "source": [
    "input = pd.read_csv(\"/home/tbxsx/Code/learnMachineLearning/exercises/tf/boston.csv\")\n",
    "featureNum = input.shape[1]\n",
    "sampleNum = input.shape[0]\n",
    "m = tf.constant(input.shape[0], name=\"sampleNum\")\n",
    "feature = tf.constant(input.shape[1], name=\"featureNum\")\n",
    "trainX = tf.placeholder(shape=[trainSize, featureNum - 1], dtype=tf.float32)\n",
    "trainY = tf.placeholder(shape=[trainSize, 1], dtype=tf.float32)"
   ]
  },
  {
   "cell_type": "code",
   "execution_count": null,
   "metadata": {},
   "outputs": [],
   "source": [
    "w = tf.Variable(tf.random_normal(shape=[featureNum - 1, 1], mean=0.0, stddev=1.0), name=\"weight\", dtype=tf.float32)\n",
    "b = tf.Variable(tf.random_normal(shape=[1], mean=0.0, stddev=1.0), name=\"bias\", dtype=tf.float32)\n",
    "\n",
    "Y_pred = tf.add(tf.matmul(trainX, w), b, name=\"Y_pred\")\n",
    "cost = tf.reduce_sum(tf.square(Y_pred - trainY)) / trainSize\n",
    "\n",
    "optimizer = tf.train.GradientDescentOptimizer(learning_rate=learning_rate).minimize(cost)\n",
    "losses = []\n",
    "with tf.Session() as sess:\n",
    "    sess.run(tf.global_variables_initializer())\n",
    "\n",
    "    writer = tf.summary.FileWriter(\"/home/tbxsx/Code/learnMachineLearning/exercises/graph\", graph=sess.graph)\n",
    "    mytrainX = input.ix[input.index < trainSize, input.index < featureNum - 1]\n",
    "    mytrainY = input.ix[input.index < trainSize, input.index == featureNum - 1]\n",
    "\n",
    "    for epochs_i in range(n_epochs):\n",
    "        _, c, W1, b1 = sess.run([optimizer, cost, w, b], feed_dict={trainX: mytrainX, trainY: mytrainY})\n",
    "        if epochs_i % 100 == 0:\n",
    "            print(\"Epoch {0} : {1} : {2}\".format(epochs_i, c, b1[0]))\n",
    "        losses.append(c)\n",
    "    writer.close()\n",
    "\n",
    "# plot"
   ]
  },
  {
   "cell_type": "code",
   "execution_count": null,
   "metadata": {},
   "outputs": [],
   "source": [
    "plt.plot(losses)\n",
    "plt.show()"
   ]
  }
 ],
 "metadata": {
  "kernelspec": {
   "display_name": "Python 3",
   "language": "python",
   "name": "python3"
  },
  "language_info": {
   "codemirror_mode": {
    "name": "ipython",
    "version": 3
   },
   "file_extension": ".py",
   "mimetype": "text/x-python",
   "name": "python",
   "nbconvert_exporter": "python",
   "pygments_lexer": "ipython3",
   "version": "3.5.2"
  }
 },
 "nbformat": 4,
 "nbformat_minor": 2
}
